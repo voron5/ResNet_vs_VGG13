{
 "cells": [
  {
   "cell_type": "code",
   "execution_count": 13,
   "id": "b792b114",
   "metadata": {},
   "outputs": [],
   "source": [
    "import torch\n",
    "import torch.nn as nn\n",
    "import torch.nn.functional as F\n",
    "\n",
    "import torchvision as tv\n",
    "\n",
    "import os\n",
    "import cv2\n",
    "import numpy as np\n",
    "import matplotlib.pyplot as plt\n",
    "from tqdm.autonotebook import tqdm"
   ]
  },
  {
   "cell_type": "code",
   "execution_count": 14,
   "id": "8eabb6a7",
   "metadata": {},
   "outputs": [],
   "source": [
    "class Dataset2class(torch.utils.data.Dataset):\n",
    "    def __init__(self, path_dir1:str, path_dir2:str):\n",
    "        super().__init__()\n",
    "        \n",
    "        self.path_dir1 = path_dir1\n",
    "        self.path_dir2 = path_dir2\n",
    "        \n",
    "        self.dir1_list = sorted(os.listdir(path_dir1))\n",
    "        self.dir2_list = sorted(os.listdir(path_dir2))\n",
    "        \n",
    "    def __len__(self):\n",
    "        return len(self.dir1_list) + len(self.dir2_list)\n",
    "    \n",
    "    def __getitem__(self, idx):\n",
    "        \n",
    "        if idx < len(self.dir1_list):\n",
    "            class_id = 0\n",
    "            img_path = os.path.join(self.path_dir1, self.dir1_list[idx])\n",
    "        else:\n",
    "            class_id = 1\n",
    "            idx -= len(self.dir1_list)\n",
    "            img_path = os.path.join(self.path_dir2, self.dir2_list[idx])\n",
    "        \n",
    "        img = cv2.imread(img_path, cv2.IMREAD_COLOR)\n",
    "        img = cv2.cvtColor(img, cv2.COLOR_BGR2RGB)\n",
    "        img = img.astype(np.float32)\n",
    "        img = img/255.0\n",
    "        \n",
    "        img = cv2.resize(img, (112, 112), interpolation=cv2.INTER_AREA)\n",
    "        img = img.transpose((2, 0, 1))\n",
    "        \n",
    "        t_img = torch.from_numpy(img)\n",
    "        t_class_id = torch.tensor([class_id])\n",
    "        \n",
    "        return {'img': t_img, 'label': t_class_id}\n",
    "        "
   ]
  },
  {
   "cell_type": "code",
   "execution_count": 15,
   "id": "ae43db49",
   "metadata": {},
   "outputs": [],
   "source": [
    "train_dogs_path = 'training_set/training_set/dogs'\n",
    "train_cats_path = 'training_set/training_set/cats'\n",
    "test_dogs_path = 'test_set/test_set/dogs'\n",
    "test_cats_path = 'test_set/test_set/cats'\n",
    "\n",
    "train_ds_catsdogs = Dataset2class(train_dogs_path, train_cats_path)\n",
    "test_ds_catsdogs = Dataset2class(test_dogs_path, test_cats_path)"
   ]
  },
  {
   "cell_type": "code",
   "execution_count": 16,
   "id": "a169d748",
   "metadata": {},
   "outputs": [
    {
     "name": "stdout",
     "output_type": "stream",
     "text": [
      "Train size: 8005\n",
      "Test size: 2023\n"
     ]
    }
   ],
   "source": [
    "print(f'Train size: {len(train_ds_catsdogs)}')\n",
    "print(f'Test size: {len(test_ds_catsdogs)}')"
   ]
  },
  {
   "cell_type": "code",
   "execution_count": null,
   "id": "683ec6a5",
   "metadata": {},
   "outputs": [],
   "source": []
  },
  {
   "cell_type": "code",
   "execution_count": 17,
   "id": "bc34837f",
   "metadata": {},
   "outputs": [],
   "source": [
    "batch_size = 16\n",
    "\n",
    "train_loader = torch.utils.data.DataLoader(\n",
    "    train_ds_catsdogs, shuffle=True, \n",
    "    batch_size=batch_size, drop_last=True\n",
    ")\n",
    "test_loader = torch.utils.data.DataLoader(\n",
    "    test_ds_catsdogs, shuffle=False,\n",
    "    batch_size=batch_size, drop_last=False\n",
    ")"
   ]
  },
  {
   "cell_type": "code",
   "execution_count": 18,
   "id": "2870be26",
   "metadata": {},
   "outputs": [],
   "source": [
    "class VGG13(nn.Module):\n",
    "    def __init__(self, out_nc):\n",
    "        super().__init__()\n",
    "        \n",
    "        self.act = nn.ReLU(inplace=True)\n",
    "        self.maxpool = nn.MaxPool2d(2,2)\n",
    "        \n",
    "        self.conv1_1 = nn.Conv2d(3, 64, kernel_size=3, padding=1)\n",
    "        self.conv1_2 = nn.Conv2d(64, 64, kernel_size=3, padding=1)\n",
    "        \n",
    "        self.conv2_1 = nn.Conv2d(64, 128, kernel_size=3, padding=1)\n",
    "        self.conv2_2 = nn.Conv2d(128, 128, kernel_size=3, padding=1)\n",
    "        \n",
    "        self.conv3_1 = nn.Conv2d(128, 128, kernel_size=3, padding=1)\n",
    "        self.conv3_2 = nn.Conv2d(128, 128, kernel_size=3, padding=1)\n",
    "        self.conv3_3 = nn.Conv2d(128, 128, kernel_size=3, padding=1)\n",
    "        \n",
    "        self.conv4_1 = nn.Conv2d(128, 128, kernel_size=3, padding=1)\n",
    "        self.conv4_2 = nn.Conv2d(128, 128, kernel_size=3, padding=1)\n",
    "        self.conv4_3 = nn.Conv2d(128, 128, kernel_size=3, padding=1)\n",
    "        \n",
    "        self.avgpool = nn.AdaptiveAvgPool2d((1,1))       \n",
    "        self.flat = nn.Flatten()\n",
    "        self.fc1 = nn.Linear(128, 128)\n",
    "        self.fc3 = nn.Linear(128, out_nc)\n",
    "        \n",
    "    def forward(self, x):\n",
    "        out = self.conv1_1(x)\n",
    "        out = self.act(out)\n",
    "        out = self.conv1_2(out)\n",
    "        out = self.act(out)\n",
    "        \n",
    "        out = self.maxpool(out)\n",
    "        \n",
    "        out = self.conv2_1(out)\n",
    "        out = self.act(out)\n",
    "        out = self.conv2_2(out)\n",
    "        out = self.act(out)\n",
    "        \n",
    "        out = self.maxpool(out)\n",
    "        \n",
    "        out = self.conv3_1(out)\n",
    "        out = self.act(out)\n",
    "        out = self.conv3_2(out)\n",
    "        out = self.act(out)\n",
    "        out = self.conv3_3(out)\n",
    "        out = self.act(out)\n",
    "        \n",
    "        out = self.maxpool(out)\n",
    "        \n",
    "        out = self.conv4_1(out)\n",
    "        out = self.act(out)\n",
    "        out = self.conv4_2(out)\n",
    "        out = self.act(out)\n",
    "        out = self.conv4_3(out)\n",
    "        out = self.act(out)\n",
    "        \n",
    "        out = self.maxpool(out)\n",
    "        out = self.avgpool(out)\n",
    "        out = self.flat(out)\n",
    "        \n",
    "        out = self.fc1(out)\n",
    "        out = self.act(out)\n",
    "        out = self.fc3(out)\n",
    "        \n",
    "        return out"
   ]
  },
  {
   "cell_type": "code",
   "execution_count": 19,
   "id": "d27c8db2",
   "metadata": {},
   "outputs": [],
   "source": [
    "def count_parameters(model):\n",
    "    return sum(p.numel() for p in model.parameters() if p.requires_grad)\n",
    "\n",
    "def accuracy(pred, label):\n",
    "    answer = (F.sigmoid(pred.detach().cpu()).numpy() > 0.5) == (label.cpu().numpy() > 0.5)\n",
    "    return answer.mean()\n"
   ]
  },
  {
   "cell_type": "code",
   "execution_count": 20,
   "id": "c995c23b",
   "metadata": {},
   "outputs": [],
   "source": [
    "device = 'cuda' if torch.cuda.is_available() else 'cpu'"
   ]
  },
  {
   "cell_type": "code",
   "execution_count": 21,
   "id": "52bf8bd9",
   "metadata": {},
   "outputs": [],
   "source": [
    "model = VGG13(1) \n",
    "model = model.to(device)\n",
    "count_parameters(model)\n",
    "\n",
    "epochs = 10\n",
    "\n",
    "\n",
    "loss_fn = nn.BCEWithLogitsLoss()#.to(device)\n",
    "optimizer = torch.optim.Adam(model.parameters(), lr=0.0001)"
   ]
  },
  {
   "cell_type": "code",
   "execution_count": 22,
   "id": "0f121fd9",
   "metadata": {},
   "outputs": [
    {
     "name": "stdout",
     "output_type": "stream",
     "text": [
      "epoch 1\n"
     ]
    },
    {
     "data": {
      "application/vnd.jupyter.widget-view+json": {
       "model_id": "1197a800c55042f48f437378e4704fe5",
       "version_major": 2,
       "version_minor": 0
      },
      "text/plain": [
       "  0%|          | 0/500 [00:00<?, ?it/s]"
      ]
     },
     "metadata": {},
     "output_type": "display_data"
    },
    {
     "name": "stdout",
     "output_type": "stream",
     "text": [
      "0.6921591918468475\n",
      "0.516625\n",
      "epoch 2\n"
     ]
    },
    {
     "data": {
      "application/vnd.jupyter.widget-view+json": {
       "model_id": "b0deafe9ed7e41d5bac73d1dfdd94a52",
       "version_major": 2,
       "version_minor": 0
      },
      "text/plain": [
       "  0%|          | 0/500 [00:00<?, ?it/s]"
      ]
     },
     "metadata": {},
     "output_type": "display_data"
    },
    {
     "name": "stdout",
     "output_type": "stream",
     "text": [
      "0.6841092257499695\n",
      "0.562\n",
      "epoch 3\n"
     ]
    },
    {
     "data": {
      "application/vnd.jupyter.widget-view+json": {
       "model_id": "ee8c1a925589422fa68cccd85cc41fe3",
       "version_major": 2,
       "version_minor": 0
      },
      "text/plain": [
       "  0%|          | 0/500 [00:00<?, ?it/s]"
      ]
     },
     "metadata": {},
     "output_type": "display_data"
    },
    {
     "name": "stdout",
     "output_type": "stream",
     "text": [
      "0.6682463564872742\n",
      "0.60225\n",
      "epoch 4\n"
     ]
    },
    {
     "data": {
      "application/vnd.jupyter.widget-view+json": {
       "model_id": "1e8d429c75c64156869c0ded32bfbb3d",
       "version_major": 2,
       "version_minor": 0
      },
      "text/plain": [
       "  0%|          | 0/500 [00:00<?, ?it/s]"
      ]
     },
     "metadata": {},
     "output_type": "display_data"
    },
    {
     "name": "stdout",
     "output_type": "stream",
     "text": [
      "0.6446272931694984\n",
      "0.630875\n",
      "epoch 5\n"
     ]
    },
    {
     "data": {
      "application/vnd.jupyter.widget-view+json": {
       "model_id": "57eb70ea7210481aa2c36f4fa9f32a99",
       "version_major": 2,
       "version_minor": 0
      },
      "text/plain": [
       "  0%|          | 0/500 [00:00<?, ?it/s]"
      ]
     },
     "metadata": {},
     "output_type": "display_data"
    },
    {
     "name": "stdout",
     "output_type": "stream",
     "text": [
      "0.6179212157726288\n",
      "0.663625\n",
      "epoch 6\n"
     ]
    },
    {
     "data": {
      "application/vnd.jupyter.widget-view+json": {
       "model_id": "b0d0b3cbbd43491aae1e82cc46cd12ec",
       "version_major": 2,
       "version_minor": 0
      },
      "text/plain": [
       "  0%|          | 0/500 [00:00<?, ?it/s]"
      ]
     },
     "metadata": {},
     "output_type": "display_data"
    },
    {
     "name": "stdout",
     "output_type": "stream",
     "text": [
      "0.5877389267086983\n",
      "0.69425\n",
      "epoch 7\n"
     ]
    },
    {
     "data": {
      "application/vnd.jupyter.widget-view+json": {
       "model_id": "7f108209ef92495398747de709655713",
       "version_major": 2,
       "version_minor": 0
      },
      "text/plain": [
       "  0%|          | 0/500 [00:00<?, ?it/s]"
      ]
     },
     "metadata": {},
     "output_type": "display_data"
    },
    {
     "name": "stdout",
     "output_type": "stream",
     "text": [
      "0.562645715713501\n",
      "0.714\n",
      "epoch 8\n"
     ]
    },
    {
     "data": {
      "application/vnd.jupyter.widget-view+json": {
       "model_id": "1427da6a84514b9588b0aaef8805e97a",
       "version_major": 2,
       "version_minor": 0
      },
      "text/plain": [
       "  0%|          | 0/500 [00:00<?, ?it/s]"
      ]
     },
     "metadata": {},
     "output_type": "display_data"
    },
    {
     "name": "stdout",
     "output_type": "stream",
     "text": [
      "0.5403142029643059\n",
      "0.731\n",
      "epoch 9\n"
     ]
    },
    {
     "data": {
      "application/vnd.jupyter.widget-view+json": {
       "model_id": "51ff24782a66450aa48e15a747743cbd",
       "version_major": 2,
       "version_minor": 0
      },
      "text/plain": [
       "  0%|          | 0/500 [00:00<?, ?it/s]"
      ]
     },
     "metadata": {},
     "output_type": "display_data"
    },
    {
     "name": "stdout",
     "output_type": "stream",
     "text": [
      "0.5273479379117488\n",
      "0.7425\n",
      "epoch 10\n"
     ]
    },
    {
     "data": {
      "application/vnd.jupyter.widget-view+json": {
       "model_id": "c40b041767ed4006a38ad2832193a3c2",
       "version_major": 2,
       "version_minor": 0
      },
      "text/plain": [
       "  0%|          | 0/500 [00:00<?, ?it/s]"
      ]
     },
     "metadata": {},
     "output_type": "display_data"
    },
    {
     "name": "stdout",
     "output_type": "stream",
     "text": [
      "0.5056063162386417\n",
      "0.75\n"
     ]
    }
   ],
   "source": [
    "loss_epochs_list = []\n",
    "acc_epochs_list = []\n",
    "for epoch in range(epochs):\n",
    "    print(f'epoch {epoch+1}')\n",
    "    loss_val = 0\n",
    "    acc_val = 0\n",
    "    for sample in (pbar := tqdm(train_loader)):\n",
    "        img, label = sample['img'], sample['label']\n",
    "        img = img.to(device)\n",
    "        label = label.float().to(device)\n",
    "        optimizer.zero_grad()\n",
    "\n",
    "        pred = model(img)\n",
    "        loss = loss_fn(pred, label)\n",
    "\n",
    "        loss.backward()\n",
    "        loss_item = loss.item()\n",
    "        loss_val += loss_item\n",
    "\n",
    "        optimizer.step()\n",
    "\n",
    "        acc_current = accuracy(pred, label)\n",
    "        acc_val += acc_current\n",
    "\n",
    "        pbar.set_description(f'loss: {loss_item:.5f}\\taccuracy: {acc_current:.3f}')\n",
    "\n",
    "    loss_epochs_list += [loss_val/len(train_loader)]\n",
    "    acc_epochs_list += [acc_val/len(train_loader)]\n",
    "    print(loss_epochs_list[-1])\n",
    "    print(acc_epochs_list[-1])"
   ]
  },
  {
   "cell_type": "code",
   "execution_count": 23,
   "id": "69edf77e",
   "metadata": {},
   "outputs": [
    {
     "data": {
      "text/plain": [
       "[<matplotlib.lines.Line2D at 0x284b8de2110>]"
      ]
     },
     "execution_count": 23,
     "metadata": {},
     "output_type": "execute_result"
    },
    {
     "data": {
      "image/png": "[encoded data removed]",
      "text/plain": [
       "<Figure size 640x480 with 1 Axes>"
      ]
     },
     "metadata": {},
     "output_type": "display_data"
    }
   ],
   "source": [
    "plt.title('Loss: Naive Convnet')\n",
    "plt.plot(loss_epochs_list)"
   ]
  },
  {
   "cell_type": "code",
   "execution_count": 24,
   "id": "5faee4bf",
   "metadata": {},
   "outputs": [
    {
     "data": {
      "text/plain": [
       "[<matplotlib.lines.Line2D at 0x284f0396f50>]"
      ]
     },
     "execution_count": 24,
     "metadata": {},
     "output_type": "execute_result"
    },
    {
     "data": {
      "image/png": "[encoded data removed]",
      "text/plain": [
       "<Figure size 640x480 with 1 Axes>"
      ]
     },
     "metadata": {},
     "output_type": "display_data"
    }
   ],
   "source": [
    "plt.title('Accuracy: Naive Convnet')\n",
    "plt.plot(acc_epochs_list)"
   ]
  }
 ],
 "metadata": {
  "kernelspec": {
   "display_name": "Python 3 (ipykernel)",
   "language": "python",
   "name": "python3"
  },
  "language_info": {
   "codemirror_mode": {
    "name": "ipython",
    "version": 3
   },
   "file_extension": ".py",
   "mimetype": "text/x-python",
   "name": "python",
   "nbconvert_exporter": "python",
   "pygments_lexer": "ipython3",
   "version": "3.11.4"
  }
 },
 "nbformat": 4,
 "nbformat_minor": 5
}
